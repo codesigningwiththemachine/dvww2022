{
  "nbformat": 4,
  "nbformat_minor": 0,
  "metadata": {
    "colab": {
      "name": "modeltoonnx.ipynb",
      "provenance": [],
      "collapsed_sections": [],
      "authorship_tag": "ABX9TyM+ze+CjoOzb9nNqDdembGg",
      "include_colab_link": true
    },
    "kernelspec": {
      "name": "python3",
      "display_name": "Python 3"
    },
    "language_info": {
      "name": "python"
    },
    "accelerator": "GPU"
  },
  "cells": [
    {
      "cell_type": "markdown",
      "metadata": {
        "id": "view-in-github",
        "colab_type": "text"
      },
      "source": [
        "<a href=\"https://colab.research.google.com/github/codesigningwiththemachine/dvww2022/blob/main/modeltoonnx.ipynb\" target=\"_parent\"><img src=\"https://colab.research.google.com/assets/colab-badge.svg\" alt=\"Open In Colab\"/></a>"
      ]
    },
    {
      "cell_type": "code",
      "source": [
        "#@title ## Install and load requirements\n",
        "#@markdown ---\n",
        "\n",
        "#@markdown Install / update Fastai and load other requirements\n",
        "\n",
        "! [ -e /content ] && pip install -Uqq fastai  # upgrade fastai on colab"
      ],
      "metadata": {
        "colab": {
          "base_uri": "https://localhost:8080/"
        },
        "cellView": "form",
        "id": "-H0Yb11Y3N8d",
        "outputId": "e55fe02c-bf02-4419-b6df-4f269dd3caf7"
      },
      "execution_count": 1,
      "outputs": [
        {
          "output_type": "stream",
          "name": "stdout",
          "text": [
            "\u001b[K     |████████████████████████████████| 189 kB 5.6 MB/s \n",
            "\u001b[K     |████████████████████████████████| 56 kB 3.2 MB/s \n",
            "\u001b[?25h"
          ]
        }
      ]
    },
    {
      "cell_type": "code",
      "source": [
        "#@title ## Mount Google Drive\n",
        "#@markdown ---\n",
        "#@markdown Mount google drive and load project folder\n",
        "from google.colab import drive\n",
        "drive.mount('/content/drive')"
      ],
      "metadata": {
        "cellView": "form",
        "colab": {
          "base_uri": "https://localhost:8080/"
        },
        "id": "ANh9pE2w3QVY",
        "outputId": "5122ddd8-0d37-480d-a8fd-66f8ff356fd4"
      },
      "execution_count": 2,
      "outputs": [
        {
          "output_type": "stream",
          "name": "stdout",
          "text": [
            "Mounted at /content/drive\n"
          ]
        }
      ]
    },
    {
      "cell_type": "code",
      "execution_count": 4,
      "metadata": {
        "cellView": "form",
        "id": "H7RBcSfwwYlK"
      },
      "outputs": [],
      "source": [
        "#@title Convert pkl to onnx\n",
        "\n",
        "import torch\n",
        "import torchvision\n",
        "import torchvision.transforms as transforms\n",
        "from fastai.vision.all import *\n",
        "from fastai.collab import *\n",
        "from fastai.basics import *\n",
        "\n",
        "pklpath = \"/content/drive/MyDrive/OWN/CHIBAELISAVA/ImageClas/test.pkl\" #@param {type: \"string\"}\n",
        "savepath = \"/content/drive/MyDrive/OWN/CHIBAELISAVA/ImageClas/\" #@param {type: \"string\"}\n",
        "\n",
        "learn = load_learner(pklpath)\n",
        "\n",
        "model_pytorch = learn.model.cpu()\n",
        "model = model_pytorch.eval()\n",
        "\n",
        "random_input = torch.randn(1, 3, 256, 256, dtype=torch.float32)\n",
        " \n",
        "\n",
        " \n",
        "# torch.onnx.export(model, random_input, './model2.onnx', verbose=False, \n",
        "#                   input_names=input_names, output_names=output_names, \n",
        "#                   opset_version=11)\n",
        "\n",
        "\n",
        "torch.onnx.export(model,                     # model being run\n",
        "                  random_input,                         # model input (or a tuple for multiple inputs)\n",
        "                  savepath + \"/converted_model.onnx\",    # where to save the model (can be a file or file-like object)\n",
        "                  export_params=True,        # store the trained parameter weights inside the model file\n",
        "                  opset_version=11,          # the ONNX version to export the model to\n",
        "                  do_constant_folding=True,  # whether to execute constant folding for optimization\n",
        "                  input_names = ['input'],   # the model's input names\n",
        "                  output_names = ['output'], # the model's output names\n",
        "                  dynamic_axes={'input' : {0 : 'batch_size'},    # variable length axes\n",
        "                                'output' : {0 : 'batch_size'}})"
      ]
    }
  ]
}