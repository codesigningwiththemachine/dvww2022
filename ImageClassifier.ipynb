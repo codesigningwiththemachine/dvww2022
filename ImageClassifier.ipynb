{
  "nbformat": 4,
  "nbformat_minor": 0,
  "metadata": {
    "colab": {
      "name": "ImageClassifier.ipynb",
      "provenance": [],
      "collapsed_sections": [],
      "machine_shape": "hm",
      "include_colab_link": true
    },
    "kernelspec": {
      "name": "python3",
      "display_name": "Python 3"
    },
    "language_info": {
      "name": "python"
    },
    "accelerator": "GPU"
  },
  "cells": [
    {
      "cell_type": "markdown",
      "metadata": {
        "id": "view-in-github",
        "colab_type": "text"
      },
      "source": [
        "<a href=\"https://colab.research.google.com/github/codesigningwiththemachine/dvww2022/blob/main/ImageClassifier.ipynb\" target=\"_parent\"><img src=\"https://colab.research.google.com/assets/colab-badge.svg\" alt=\"Open In Colab\"/></a>"
      ]
    },
    {
      "cell_type": "markdown",
      "source": [
        "# **Setup**"
      ],
      "metadata": {
        "id": "aGkpd5RTy-h4"
      }
    },
    {
      "cell_type": "code",
      "execution_count": null,
      "metadata": {
        "cellView": "form",
        "id": "QxZlA8GqxIfw"
      },
      "outputs": [],
      "source": [
        "#@title ## Install and load requirements\n",
        "#@markdown ---\n",
        "\n",
        "#@markdown Install / update Fastai and load other requirements\n",
        "\n",
        "! [ -e /content ] && pip install -Uqq fastai  # upgrade fastai on colab\n",
        "import pandas as pd\n",
        "from fastai.vision.all import *\n",
        "from fastai.collab import *\n",
        "from fastai.basics import *\n"
      ]
    },
    {
      "cell_type": "code",
      "source": [
        "#@title ## Mount Google Drive\n",
        "#@markdown ---\n",
        "#@markdown Mount google drive and load project folder\n",
        "from google.colab import drive\n",
        "drive.mount('/content/drive')"
      ],
      "metadata": {
        "cellView": "form",
        "id": "CM0l4VRqxa-U"
      },
      "execution_count": null,
      "outputs": []
    },
    {
      "cell_type": "code",
      "source": [
        "#@title ## Set Project folder\n",
        "#@markdown ---\n",
        "#@markdown Go to project folder\n",
        "\n",
        "Project_Folder = '' #@param {type:\"string\"}\n",
        "%cd $Project_Folder\n",
        "\n",
        "from pathlib import Path\n",
        "path = Path(Project_Folder)"
      ],
      "metadata": {
        "cellView": "form",
        "id": "BqiWmbeVFu39"
      },
      "execution_count": null,
      "outputs": []
    },
    {
      "cell_type": "markdown",
      "source": [
        "# **Single-label classification**"
      ],
      "metadata": {
        "id": "5dAtyUhAzULe"
      }
    },
    {
      "cell_type": "code",
      "source": [
        "#@title ## Load labels\n",
        "Labels = \"\" #@param {type:\"string\"}\n",
        "\n",
        "#Pandas dataframe from csv file\n",
        "df = pd.read_csv(Labels)\n",
        "df.head()"
      ],
      "metadata": {
        "cellView": "form",
        "id": "OyBK0Clazlfn"
      },
      "execution_count": null,
      "outputs": []
    },
    {
      "cell_type": "code",
      "source": [
        "#@title ## Convert Dataset\n",
        "#@markdown ---\n",
        "#@markdown Convert data into a dataloader object to be used by fastai.\n",
        "#@markdown Data is prepared for our image classification model and organized in batches. \n",
        "\n",
        "dls = ImageDataLoaders.from_df(df, path, folder='.',fn_col=0,item_tfms=Resize(256,ResizeMethod.Squish))\n",
        "dls.show_batch()"
      ],
      "metadata": {
        "cellView": "form",
        "id": "-WLy35AUxcHy"
      },
      "execution_count": null,
      "outputs": []
    },
    {
      "cell_type": "code",
      "source": [
        "#@title ## Create and train an image classification model\n",
        "#@markdown ---\n",
        "\n",
        "#@markdown Using cnn_learner to prepare and train a language model based on our data. A pretrained resnet34 is used as a base.\n",
        "Epochs = 5 #@param {type:\"number\"}\n",
        "\n",
        "learn = cnn_learner(dls, resnet34, metrics=accuracy)\n",
        "#learn.lr_find()\n",
        "learn.fit_one_cycle(Epochs)"
      ],
      "metadata": {
        "cellView": "form",
        "id": "di_WG4wRxf1u"
      },
      "execution_count": null,
      "outputs": []
    },
    {
      "cell_type": "code",
      "source": [
        "#@title ## Upload Images and get prediction\n",
        "#@markdown ---\n",
        "\n",
        "#@markdown Select a set of images (.jpg, .png). And get a prediction from our model \n",
        "\n",
        "from google.colab import files\n",
        "uploaded = files.upload()\n",
        "for image in list(uploaded.keys()):\n",
        "  print(learn.predict(image)[0])"
      ],
      "metadata": {
        "cellView": "form",
        "id": "RYTABGsdxnOT"
      },
      "execution_count": null,
      "outputs": []
    },
    {
      "cell_type": "markdown",
      "source": [
        "# **Export and Load our model**"
      ],
      "metadata": {
        "id": "O7GBXlH83Wua"
      }
    },
    {
      "cell_type": "code",
      "source": [
        "#@title ## Export our model\n",
        "#@markdown ---\n",
        "\n",
        "Model = \"modeltest.pkl\" #@param {type:\"string\"}\n",
        "learn.export(Model)"
      ],
      "metadata": {
        "cellView": "form",
        "id": "IKJ6G3RzxuIc"
      },
      "execution_count": null,
      "outputs": []
    },
    {
      "cell_type": "code",
      "source": [
        "#@title ## Load our pre trained model\n",
        "#@markdown ---\n",
        "\n",
        "Model = \"modeltest.pkl\" #@param {type:\"string\"}\n",
        "learn = load_learner(Model)"
      ],
      "metadata": {
        "cellView": "form",
        "id": "NUUd8R2Dxvta"
      },
      "execution_count": null,
      "outputs": []
    },
    {
      "cell_type": "markdown",
      "source": [
        "# **Deploy Model**"
      ],
      "metadata": {
        "id": "XhFd32PGEDkj"
      }
    },
    {
      "cell_type": "code",
      "source": [
        "%%capture\n",
        "#@title ## Install and load requirements\n",
        "#@markdown ---\n",
        "\n",
        "#@markdown Install and setup requirements to serve model online\n",
        "\n",
        "! [ -e /content ] && pip install -Uqq fastai  # upgrade fastai on colab\n",
        "!pip install flask\n",
        "!pip install flask-ngrok\n",
        "!pip install flask-bootstrap\n",
        "!pip install jsonpickle\n",
        "!pip install -U flask-cors\n",
        "\n",
        "!wget https://bin.equinox.io/c/4VmDzA7iaHb/ngrok-stable-linux-amd64.zip\n",
        "!unzip ngrok-stable-linux-amd64.zip\n",
        "!./ngrok authtoken 22aZcoUzJr4EMX5EXzWI1kbzawH_55G5fBvzCn8mtyhW9Woai\n",
        "\n"
      ],
      "metadata": {
        "id": "jLbgdmibD67p",
        "cellView": "form"
      },
      "execution_count": null,
      "outputs": []
    },
    {
      "cell_type": "code",
      "source": [
        "#@title ## Run web server \n",
        "#@markdown ---\n",
        "\n",
        "#@markdown \n",
        "\n",
        "from flask_ngrok import run_with_ngrok\n",
        "from flask import Flask, request, Response\n",
        "from flask_cors import CORS\n",
        "\n",
        "import jsonpickle\n",
        "import numpy as np\n",
        "import cv2\n",
        "import base64\n",
        "from io import BytesIO\n",
        "from PIL import Image\n",
        "\n",
        "\n",
        "\n",
        "# Initialize the Flask application\n",
        "app = Flask(__name__)\n",
        "CORS(app)\n",
        "\n",
        "# route http posts to this method\n",
        "run_with_ngrok(app)\n",
        "@app.route('/api/predict', methods=['POST'])\n",
        "def test():\n",
        "    content = request.json\n",
        "    file = content['image']\n",
        "    starter = file.find(',')\n",
        "    image_data = file[starter+1:]\n",
        "    image_data = bytes(image_data, encoding=\"ascii\")\n",
        "    im = Image.open(BytesIO(base64.b64decode(image_data)))\n",
        "    im.save('image.png')\n",
        "    prediction = learn.predict('image.png')[0]\n",
        "    #print(prediction)\n",
        "    response = {'Prediction': '{}'.format(prediction)}\n",
        "    response_pickled = jsonpickle.encode(response)\n",
        "    return Response(response=response_pickled, status=200, mimetype=\"application/json\")\n",
        "\n",
        "\n",
        "\n",
        "if __name__ == '__main__':\n",
        "   app.run()"
      ],
      "metadata": {
        "cellView": "form",
        "id": "iZtH3corEJsg"
      },
      "execution_count": null,
      "outputs": []
    },
    {
      "cell_type": "code",
      "source": [
        "#@title Our url\n",
        "\n",
        "path = \"https://31d7-34-123-1-22.ngrok.io/api/predict\" #@param {type: 'string'}"
      ],
      "metadata": {
        "cellView": "form",
        "id": "LPfdaAalEWdd"
      },
      "execution_count": null,
      "outputs": []
    },
    {
      "cell_type": "markdown",
      "source": [
        "# **URL to test: [Prediction](https://editor.p5js.org/codesigningwiththemachine/sketches/pIbxAXGtA)**"
      ],
      "metadata": {
        "id": "uISSzksmEaLC"
      }
    }
  ]
}