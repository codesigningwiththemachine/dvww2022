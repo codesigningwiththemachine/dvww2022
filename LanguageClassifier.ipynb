{
  "nbformat": 4,
  "nbformat_minor": 0,
  "metadata": {
    "colab": {
      "name": "LanguageClassifier.ipynb",
      "provenance": [],
      "collapsed_sections": [],
      "mount_file_id": "1mJQmuNNRQ31IwbPs1J-xiRh4c_q0fy-T",
      "authorship_tag": "ABX9TyPRwniXV9tzRZcbGf2iDH3n",
      "include_colab_link": true
    },
    "kernelspec": {
      "name": "python3",
      "display_name": "Python 3"
    },
    "language_info": {
      "name": "python"
    },
    "accelerator": "GPU"
  },
  "cells": [
    {
      "cell_type": "markdown",
      "metadata": {
        "id": "view-in-github",
        "colab_type": "text"
      },
      "source": [
        "<a href=\"https://colab.research.google.com/github/codesigningwiththemachine/dvww2022/blob/main/LanguageClassifier.ipynb\" target=\"_parent\"><img src=\"https://colab.research.google.com/assets/colab-badge.svg\" alt=\"Open In Colab\"/></a>"
      ]
    },
    {
      "cell_type": "markdown",
      "source": [
        "# **Setup**"
      ],
      "metadata": {
        "id": "LAiMuBuxyhNL"
      }
    },
    {
      "cell_type": "code",
      "source": [
        "#@title ## Install and load requirements\n",
        "#@markdown ---\n",
        "\n",
        "#@markdown Install / update Fastai and load other requirements\n",
        "! [ -e /content ] && pip install -Uqq fastai  # upgrade fastai on colab\n",
        "from fastai.text.all import *\n",
        "from fastai.collab import *\n",
        "import pandas as pd\n"
      ],
      "metadata": {
        "cellView": "form",
        "id": "D8hWoKElznMG"
      },
      "execution_count": null,
      "outputs": []
    },
    {
      "cell_type": "code",
      "execution_count": null,
      "metadata": {
        "cellView": "form",
        "id": "KgPQLaH_ya2g"
      },
      "outputs": [],
      "source": [
        "#@title ## Mount Google Drive\n",
        "#@markdown ---\n",
        "#@markdown Mount google drive and load project folder\n",
        "from google.colab import drive\n",
        "drive.mount('/content/drive')"
      ]
    },
    {
      "cell_type": "code",
      "source": [
        "#@title ## Set Project folder\n",
        "#@markdown ---\n",
        "#@markdown Go to project folder\n",
        "\n",
        "Project_Folder = '/content/drive/MyDrive/Language/' #@param {type:\"string\"}\n",
        "%cd $Project_Folder\n",
        "\n",
        "from pathlib import Path\n",
        "path = Path(Project_Folder)"
      ],
      "metadata": {
        "cellView": "form",
        "id": "jdL8vnZ-PP2m"
      },
      "execution_count": null,
      "outputs": []
    },
    {
      "cell_type": "markdown",
      "source": [
        "# **Language Model**"
      ],
      "metadata": {
        "id": "Cu_zn3OO1PE3"
      }
    },
    {
      "cell_type": "code",
      "source": [
        "#@title ## Load Dataset\n",
        "LM_dataset = \"text.csv\" #@param {type:\"string\"}\n",
        "\n",
        "#Pandas dataframe from csv file\n",
        "df = pd.read_csv(LM_dataset)\n",
        "df.head()"
      ],
      "metadata": {
        "cellView": "form",
        "id": "KO7A3dNs0rS6"
      },
      "execution_count": null,
      "outputs": []
    },
    {
      "cell_type": "code",
      "source": [
        "#@title ## Convert Dataset\n",
        "#@markdown ---\n",
        "#@markdown Convert data into a dataloader object to be used by fastai.\n",
        "#@markdown Data is prepared for language model traning. tokenizing words and preparing a required dependant variable for self supervised learning.\n",
        "\n",
        "dls_lm = TextDataLoaders.from_df(df, text_col='text', is_lm=True, valid_pct=0.1)\n",
        "dls_lm.show_batch(max_n=2)"
      ],
      "metadata": {
        "cellView": "form",
        "id": "HQoInlU03-Cu"
      },
      "execution_count": null,
      "outputs": []
    },
    {
      "cell_type": "code",
      "source": [
        "#@title ## Create and train a language model\n",
        "#@markdown ---\n",
        "\n",
        "#@markdown Using language_model_learner to prepare and train a language model based on our data. A pretrained RNN is used as a based AWD_LSTM \n",
        "\n",
        "learn = language_model_learner(dls_lm, AWD_LSTM, drop_mult=0.3, metrics=[accuracy, Perplexity()]).to_fp16()\n",
        "# to_fp16() puts the Learner in mixed precision, which is going to help speed up training on GPUs\n",
        "# Reduce overfitting with drop mult\n",
        "\n",
        "#is necessary find the right learing rate\n",
        "#learn.lr_find()\n",
        "learn.fit_one_cycle(1, 3e-2)\n"
      ],
      "metadata": {
        "cellView": "form",
        "id": "NecjUMof4lnp"
      },
      "execution_count": null,
      "outputs": []
    },
    {
      "cell_type": "code",
      "source": [
        "#@title ## Test our language model\n",
        "#@markdown ---\n",
        "\n",
        "Phrase = \"I want to go to your\" #@param {type:\"string\"}\n",
        "learn.predict(Phrase)"
      ],
      "metadata": {
        "cellView": "form",
        "id": "ETFuwCtb_cy0"
      },
      "execution_count": null,
      "outputs": []
    },
    {
      "cell_type": "code",
      "source": [
        "#@title ## Save our model\n",
        "#@markdown ---\n",
        "\n",
        "Model = \"test\" #@param {type:\"string\"}\n",
        "learn.save(Model)"
      ],
      "metadata": {
        "cellView": "form",
        "id": "nxIkj1hYBwl9"
      },
      "execution_count": null,
      "outputs": []
    },
    {
      "cell_type": "code",
      "source": [
        "#@title ## Load our model\n",
        "#@markdown ---\n",
        "\n",
        "Model = \"test\" #@param {type:\"string\"}\n",
        "learn.load(Model)"
      ],
      "metadata": {
        "cellView": "form",
        "id": "c0Tl9tN-CDKj"
      },
      "execution_count": null,
      "outputs": []
    },
    {
      "cell_type": "code",
      "source": [
        "#@title ## Improve model accuracy\n",
        "#@markdown ---\n",
        "#@markdown Unfreeze model and train for longer epochs\n",
        "\n",
        "epochs =  3#@param {type:\"number\"}\n",
        "\n",
        "learn.unfreeze()\n",
        "#learn.lr_find()\n",
        "learn.fit_one_cycle(epochs, 1e-2)"
      ],
      "metadata": {
        "cellView": "form",
        "id": "q73seOP-717W"
      },
      "execution_count": null,
      "outputs": []
    },
    {
      "cell_type": "code",
      "source": [
        "#@title ## Test our language model\n",
        "#@markdown ---\n",
        "\n",
        "#@markdown Using language_model_learner to prepare and train a language model based on our data. A pretrained RNN is used as a based AWD_LSTM \n",
        "\n",
        "Phrase = \"I am \" #@param {type:\"string\"}\n",
        "Words =  16#@param {type:\"number\"}\n",
        "Sentences =  1#@param {type:\"number\"}\n",
        "Temperature = 0.8 #@param {type:\"number\"}\n",
        "\n",
        "for i in range(Sentences):\n",
        "  print(learn.predict(Phrase, Words, temperature=0.75))\n"
      ],
      "metadata": {
        "cellView": "form",
        "id": "2nGv-Z34EdMK"
      },
      "execution_count": null,
      "outputs": []
    },
    {
      "cell_type": "code",
      "source": [
        "#@title ## Save our encoder\n",
        "#@markdown ---\n",
        "#@markdown Save the model model not including the final layer (encoder)\n",
        "learn.save_encoder('encoder')"
      ],
      "metadata": {
        "cellView": "form",
        "id": "EvrYsGKUHucf"
      },
      "execution_count": null,
      "outputs": []
    },
    {
      "cell_type": "markdown",
      "source": [
        "# **Classifier**"
      ],
      "metadata": {
        "id": "2KfVQbsYIA7Q"
      }
    },
    {
      "cell_type": "code",
      "source": [
        "#@title ## Load Dataset\n",
        "CL_dataset = \"/content/drive/MyDrive/Language/tweets_class.csv\" #@param {type:\"string\"}\n",
        "\n",
        "#Pandas dataframe from csv file\n",
        "df = pd.read_csv(CL_dataset)\n",
        "df.head()\n"
      ],
      "metadata": {
        "cellView": "form",
        "id": "k_GxeU0UIMgF"
      },
      "execution_count": null,
      "outputs": []
    },
    {
      "cell_type": "code",
      "source": [
        "#@title ## Convert Dataset\n",
        "#@markdown ---\n",
        "#@markdown Convert data into a dataloader object to be used by fastai.\n",
        "\n",
        "dls_clas = TextDataLoaders.from_df(df, text_col='text', label_col='sentiment', text_vocab=dls_lm.vocab)\n",
        "dls_clas.show_batch(max_n=2)"
      ],
      "metadata": {
        "cellView": "form",
        "id": "BMpwfPawL9vU"
      },
      "execution_count": null,
      "outputs": []
    },
    {
      "cell_type": "code",
      "source": [
        "#@title ## Prepare model and load our encoder\n",
        "#@markdown ---\n",
        "\n",
        "learn = text_classifier_learner(dls_clas, AWD_LSTM, drop_mult=0.5, metrics=accuracy).to_fp16()\n",
        "Encoder = \"encoder\" #@param {type:\"string\"}\n",
        "learn.load_encoder(Encoder)"
      ],
      "metadata": {
        "cellView": "form",
        "id": "UjMAum66NEFG"
      },
      "execution_count": null,
      "outputs": []
    },
    {
      "cell_type": "code",
      "source": [
        "#@title ## Train our language classifier\n",
        "#@markdown ---\n",
        "\n",
        "#@markdown Using fit_one_cycle to train our model for an epoch\n",
        "\n",
        "#learn.lr_find()\n",
        "learn.fit_one_cycle(1, 3e-2)\n",
        "\n"
      ],
      "metadata": {
        "cellView": "form",
        "id": "_LXme8F9NhcI"
      },
      "execution_count": null,
      "outputs": []
    },
    {
      "cell_type": "code",
      "source": [
        "#@title ## Improve our model\n",
        "#@markdown ---\n",
        "\n",
        "#@markdown Gradually unfreeze and continue training \n",
        "\n",
        "learn.freeze_to(-2)\n",
        "#learn.lr_find()\n",
        "learn.fit_one_cycle(1, slice(1e-2/(2.6**4),1e-2))\n",
        "\n",
        "learn.freeze_to(-3)\n",
        "#learn.lr_find()\n",
        "learn.fit_one_cycle(1, slice(5e-3/(2.6**4),5e-3))\n",
        "\n",
        "learn.unfreeze()\n",
        "#learn.lr_find()\n",
        "learn.fit_one_cycle(4, slice(2e-2/(2.6**4),2e-2))"
      ],
      "metadata": {
        "cellView": "form",
        "id": "GqpLBV33OGcS"
      },
      "execution_count": null,
      "outputs": []
    },
    {
      "cell_type": "code",
      "source": [
        "#@title ## Test our Emotion Classifier\n",
        "#@markdown ---\n",
        "\n",
        "#@markdown Using language_model_learner to prepare and train a language model based on our data. A pretrained RNN is used as a based AWD_LSTM \n",
        "\n",
        "Phrase = \"hello world\" #@param {type:\"string\"}\n",
        "print(learn.predict(Phrase)[0])"
      ],
      "metadata": {
        "cellView": "form",
        "id": "sUEI8w72PqKK"
      },
      "execution_count": null,
      "outputs": []
    },
    {
      "cell_type": "code",
      "source": [
        "#@title ## Save our model\n",
        "#@markdown ---\n",
        "\n",
        "Model = \"classifier\" #@param {type:\"string\"}\n",
        "learn.save(Model)"
      ],
      "metadata": {
        "cellView": "form",
        "id": "9Fjxsly9Qlxa"
      },
      "execution_count": null,
      "outputs": []
    },
    {
      "cell_type": "code",
      "source": [
        "#@title ## Load our model\n",
        "#@markdown ---\n",
        "\n",
        "Model = \"classifier\" #@param {type:\"string\"}\n",
        "learn = learn.load(Model)"
      ],
      "metadata": {
        "cellView": "form",
        "id": "FK6yv-M0Jcgp"
      },
      "execution_count": null,
      "outputs": []
    },
    {
      "cell_type": "markdown",
      "source": [
        "# **Deploy Model**"
      ],
      "metadata": {
        "id": "BVY4dBMUI37V"
      }
    },
    {
      "cell_type": "code",
      "source": [
        "%%capture\n",
        "#@title ## Install and load requirements\n",
        "#@markdown ---\n",
        "\n",
        "#@markdown Install and setup requirements to serve model online\n",
        "\n",
        "! [ -e /content ] && pip install -Uqq fastai  # upgrade fastai on colab\n",
        "!pip install flask\n",
        "!pip install flask-ngrok\n",
        "!pip install flask-bootstrap\n",
        "!pip install jsonpickle\n",
        "!pip install -U flask-cors\n",
        "\n",
        "!wget https://bin.equinox.io/c/4VmDzA7iaHb/ngrok-stable-linux-amd64.zip\n",
        "!unzip ngrok-stable-linux-amd64.zip\n",
        "!./ngrok authtoken 22aZcoUzJr4EMX5EXzWI1kbzawH_55G5fBvzCn8mtyhW9Woai"
      ],
      "metadata": {
        "cellView": "form",
        "id": "XIYCN5YxI4_5"
      },
      "execution_count": null,
      "outputs": []
    },
    {
      "cell_type": "code",
      "source": [
        "#@title ## Run web server \n",
        "#@markdown ---\n",
        "\n",
        "#@markdown \n",
        "\n",
        "from flask_ngrok import run_with_ngrok\n",
        "from flask import Flask, request, Response\n",
        "from flask_cors import CORS\n",
        "\n",
        "import jsonpickle\n",
        "import numpy as np\n",
        "import cv2\n",
        "import base64\n",
        "from io import BytesIO\n",
        "from PIL import Image\n",
        "\n",
        "\n",
        "\n",
        "# Initialize the Flask application\n",
        "app = Flask(__name__)\n",
        "CORS(app)\n",
        "\n",
        "# route http posts to this method\n",
        "run_with_ngrok(app)\n",
        "@app.route('/api/predict', methods=['POST'])\n",
        "def test():\n",
        "    content = request.json\n",
        "    text = content['text']\n",
        "    prediction = learn.predict(text)[0]\n",
        "    #print(prediction)\n",
        "    response = {'Prediction': '{}'.format(prediction)}\n",
        "    response_pickled = jsonpickle.encode(response)\n",
        "    return Response(response=response_pickled, status=200, mimetype=\"application/json\")\n",
        "\n",
        "\n",
        "\n",
        "if __name__ == '__main__':\n",
        "   app.run()"
      ],
      "metadata": {
        "cellView": "form",
        "id": "bWSD7yVdI9zS"
      },
      "execution_count": null,
      "outputs": []
    },
    {
      "cell_type": "code",
      "source": [
        "#@title Our url\n",
        "\n",
        "path = \"https://a5cd-34-86-74-216.ngrok.io/api/predict\" #@param {type: 'string'}"
      ],
      "metadata": {
        "cellView": "form",
        "id": "SX8J2NNUJQhq"
      },
      "execution_count": null,
      "outputs": []
    },
    {
      "cell_type": "markdown",
      "source": [
        "# **URL to test: [Prediction](https://editor.p5js.org/codesigningwiththemachine/sketches/TMwvIa9BY)**"
      ],
      "metadata": {
        "id": "liSj97TaUcGe"
      }
    }
  ]
}
